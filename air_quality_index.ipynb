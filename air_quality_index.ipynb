{
 "cells": [
  {
   "cell_type": "code",
   "execution_count": 11,
   "metadata": {},
   "outputs": [],
   "source": [
    "import requests\n",
    "from bs4 import BeautifulSoup\n",
    "import pandas as pd\n",
    "pd.options.display.max_columns=100\n",
    "\n",
    "headers = {'User-Agent': 'Mozilla/5.0 (Windows NT 10.0; Win64; x64) AppleWebKit/537.36 (KHTML, like Gecko) Chrome/58.0.3029.110 Safari/537.3'}"
   ]
  },
  {
   "cell_type": "code",
   "execution_count": null,
   "metadata": {},
   "outputs": [],
   "source": [
    "url=f\"https://www.iqair.com/world-most-polluted-cities?sort=-rank&page=1&perPage=50&cities=\"\n",
    "\n",
    "html=requests.get(url,headers=headers).content\n",
    "soup=BeautifulSoup(html)\n",
    "\n",
    "max_pages=int(soup.select_one('app-table-pagination-pages').text.strip().split(' ')[-1])"
   ]
  },
  {
   "cell_type": "code",
   "execution_count": null,
   "metadata": {},
   "outputs": [],
   "source": [
    "all_cities_df=pd.DataFrame()\n",
    "\n",
    "for page in range(1,max_pages+1):\n",
    "    try:\n",
    "        url=f\"https://www.iqair.com/world-most-polluted-cities?sort=-rank&page={page}&perPage=50&cities=\"\n",
    "        html=requests.get(url,headers=headers).content\n",
    "        page_df=pd.read_html(html)[0]\n",
    "        all_cities_df=pd.concat([all_cities_df,page_df])\n",
    "    except:\n",
    "        continue\n",
    "\n",
    "    print(f'{page}/{max_pages}',end='\\r')\n",
    "\n",
    "all_cities_df.to_csv('all_cities_df.csv',index=False)\n"
   ]
  },
  {
   "cell_type": "code",
   "execution_count": null,
   "metadata": {},
   "outputs": [],
   "source": [
    "all_cities_df=pd.read_csv('all_cities_df.csv')"
   ]
  },
  {
   "cell_type": "code",
   "execution_count": null,
   "metadata": {},
   "outputs": [],
   "source": [
    "import osmnx\n",
    "import pickle\n",
    "\n",
    "lat_lon_dict=pickle.load(open('lat_lon_dict.pickle','rb'))\n",
    "\n",
    "for i, city in enumerate(all_cities_df['City'].unique(),start=1):\n",
    "    if city in lat_lon_dict:\n",
    "        continue\n",
    "\n",
    "    try:\n",
    "        location = osmnx.geocoder.geocode(city)\n",
    "        lat, lon = location[0], location[1]\n",
    "        lat_lon_dict[city]={'Lat':lat,'Lon':lon}\n",
    "    except:\n",
    "        continue\n",
    "\n",
    "    print(f'Progress: {i}/{all_cities_df['City'].nunique()}',end='\\r')\n",
    "\n",
    "    if i%100==0 or i==all_cities_df['City'].nunique():\n",
    "        pickle.dump(lat_lon_dict,open('lat_lon_dict.pickle','wb'))\n",
    "\n",
    "\n"
   ]
  },
  {
   "cell_type": "code",
   "execution_count": null,
   "metadata": {},
   "outputs": [],
   "source": [
    "import pickle\n",
    "lat_lon_dict=pickle.load(open('lat_lon_dict.pickle','rb'))"
   ]
  },
  {
   "cell_type": "code",
   "execution_count": null,
   "metadata": {},
   "outputs": [],
   "source": [
    "coordinates_df=pd.DataFrame.from_dict(lat_lon_dict,orient='index').reset_index(names='City')\n",
    "all_cities_df=pd.read_csv('all_cities_df.csv')\n",
    "all_cities_df=all_cities_df.merge(coordinates_df,on='City')\n",
    "all_cities_df[all_cities_df.columns[2:]]=all_cities_df[all_cities_df.columns[2:]].apply(pd.to_numeric,errors='coerce')\n",
    "all_cities_df=all_cities_df[['City', 'Lat', 'Lon', 'Rank', '2017', '2018', '2019', '2020', '2021', '2022', '2023']]\n",
    "\n",
    "\n",
    "\n",
    "all_cities_df=pd.melt(\n",
    "    all_cities_df,\n",
    "    id_vars=[\"City\", \"Lat\", \"Lon\", \"Rank\"],  # Columns to keep\n",
    "    value_vars=[str(year) for year in range(2017, 2024)],  # Columns to melt\n",
    "    var_name=\"Year\",  # New column name for years\n",
    "    value_name=\"AQI\"  # New column name for values\n",
    ")\n",
    "\n",
    "all_cities_df=all_cities_df.dropna(how='any')\n",
    "\n",
    "\n",
    "\n",
    "\n",
    "all_cities_df.to_csv('all_cities_df (cleaned).csv',index=False)"
   ]
  },
  {
   "cell_type": "code",
   "execution_count": 12,
   "metadata": {},
   "outputs": [],
   "source": [
    "all_cities_df=pd.read_csv('all_cities_df (cleaned).csv')"
   ]
  }
 ],
 "metadata": {
  "kernelspec": {
   "display_name": "Python 3",
   "language": "python",
   "name": "python3"
  },
  "language_info": {
   "codemirror_mode": {
    "name": "ipython",
    "version": 3
   },
   "file_extension": ".py",
   "mimetype": "text/x-python",
   "name": "python",
   "nbconvert_exporter": "python",
   "pygments_lexer": "ipython3",
   "version": "3.12.7"
  }
 },
 "nbformat": 4,
 "nbformat_minor": 2
}
